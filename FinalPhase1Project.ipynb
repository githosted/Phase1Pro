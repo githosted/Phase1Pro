{
 "cells": [
  {
   "cell_type": "markdown",
   "metadata": {},
   "source": [
    "![example](images/director_shot.jpeg)"
   ]
  },
  {
   "cell_type": "code",
   "execution_count": 1,
   "metadata": {},
   "outputs": [],
   "source": [
    "# Phase 1 Project - Microsoft Analysis \n",
    "\n",
    "#**Authors:** Carla Kirby***"
   ]
  },
  {
   "cell_type": "markdown",
   "metadata": {},
   "source": [
    "## Overview\n",
    "\n",
    "A one-paragraph overview of the project, including the business problem, data, methods, results and recommendations."
   ]
  },
  {
   "cell_type": "markdown",
   "metadata": {},
   "source": [
    "Microsoft Movie Studios requires critical intel on the types of films frequent movie goers are gravitated to at this time. \n",
    "The information specified in this presentation provides clarity on the genres doing the best financially at the box office on a domestic and foreign gross.\n",
    "Microsoft intends to utilise this data to help steer the newly created studio in the right direction\n"
   ]
  },
  {
   "cell_type": "markdown",
   "metadata": {},
   "source": [
    "## Business Problem\n",
    "\n",
    "Summary of the business problem you are trying to solve, and the data questions that you plan to answer to solve them.\n",
    "\n",
    "***\n",
    "Questions to consider:\n",
    "* What are the business's pain points related to this project?\n",
    "* How did you pick the data analysis question(s) that you did?\n",
    "* Why are these questions important from a business perspective?\n",
    "***"
   ]
  },
  {
   "cell_type": "markdown",
   "metadata": {},
   "source": [
    "Microsoft sees all the big companies creating original video content and they want to get in on the fun. They have decided to create a new movie studio, but they don’t know anything about creating movies. You are charged with exploring what types of films are currently doing the best at the box office. You must then translate those findings into actionable insights that the head of Microsoft's new movie studio can use to help decide what type of films to create."
   ]
  },
  {
   "cell_type": "markdown",
   "metadata": {},
   "source": [
    "## Data Understanding\n",
    "\n",
    "Describe the data being used for this project.\n",
    "***\n",
    "Questions to consider:\n",
    "* Where did the data come from, and how do they relate to the data analysis questions?\n",
    "* What do the data represent? Who is in the sample and what variables are included?\n",
    "* What is the target variable?\n",
    "* What are the properties of the variables you intend to use?\n",
    "***"
   ]
  },
  {
   "cell_type": "markdown",
   "metadata": {},
   "source": [
    "From the zipped data files, I have chose to select (2) CSV's which contain the critical details necessary for me to conduct analysis."
   ]
  },
  {
   "cell_type": "code",
   "execution_count": 2,
   "metadata": {},
   "outputs": [],
   "source": [
    "# Import standard packages\n",
    "import pandas as pd\n",
    "import numpy as np\n",
    "import matplotlib.pyplot as plt\n",
    "import seaborn as sns\n",
    "%matplotlib inline"
   ]
  },
  {
   "cell_type": "code",
   "execution_count": 3,
   "metadata": {},
   "outputs": [],
   "source": [
    "#imdb.title.basics\n",
    "df = pd.read_csv('data\\\\data_file_1.csv') "
   ]
  },
  {
   "cell_type": "code",
   "execution_count": 4,
   "metadata": {},
   "outputs": [],
   "source": [
    "#bom.movie_gross\n",
    "df1 = pd.read_csv('data\\\\data_file_2.csv')"
   ]
  },
  {
   "cell_type": "code",
   "execution_count": 5,
   "metadata": {},
   "outputs": [],
   "source": [
    "#combined two datasets into one table \n",
    "dfmerged = pd.merge(df, df1, left_on =\"title\", right_on=\"primary_title\", how=\"left\", suffixes=[\" \",\"_xyz\"])"
   ]
  },
  {
   "cell_type": "code",
   "execution_count": 6,
   "metadata": {},
   "outputs": [
    {
     "data": {
      "text/plain": [
       "title              3386\n",
       "studio              257\n",
       "domestic_gross     1797\n",
       "foreign_gross      1204\n",
       "year                  9\n",
       "tconst             3365\n",
       "primary_title      2605\n",
       "original_title     2768\n",
       "start_year           11\n",
       "runtime_minutes     161\n",
       "genres              331\n",
       "dtype: int64"
      ]
     },
     "execution_count": 6,
     "metadata": {},
     "output_type": "execute_result"
    }
   ],
   "source": [
    "#understand more of the unique values in the dataset\n",
    "dfmerged.nunique()"
   ]
  },
  {
   "cell_type": "code",
   "execution_count": 7,
   "metadata": {},
   "outputs": [
    {
     "data": {
      "text/plain": [
       "<bound method NDFrame._add_numeric_operations.<locals>.mean of 0       415000000.0\n",
       "1       334200000.0\n",
       "2       296000000.0\n",
       "3       292600000.0\n",
       "4       238700000.0\n",
       "           ...     \n",
       "4143         6200.0\n",
       "4144         4800.0\n",
       "4145         2500.0\n",
       "4146         2400.0\n",
       "4147         1700.0\n",
       "Name: domestic_gross, Length: 4148, dtype: float64>"
      ]
     },
     "execution_count": 7,
     "metadata": {},
     "output_type": "execute_result"
    }
   ],
   "source": [
    "# mean of the dataset\n",
    "dfmerged['domestic_gross'].mean"
   ]
  },
  {
   "cell_type": "markdown",
   "metadata": {},
   "source": [
    "## Data Preparation\n",
    "\n",
    "Describe and justify the process for preparing the data for analysis.\n",
    "\n",
    "***\n",
    "Questions to consider:\n",
    "* Were there variables you dropped or created?\n",
    "* How did you address missing values or outliers?\n",
    "* Why are these choices appropriate given the data and the business problem?\n",
    "***"
   ]
  },
  {
   "cell_type": "code",
   "execution_count": 8,
   "metadata": {},
   "outputs": [
    {
     "data": {
      "text/plain": [
       "Index(['title', 'studio', 'domestic_gross', 'foreign_gross', 'year', 'tconst',\n",
       "       'primary_title', 'original_title', 'start_year', 'runtime_minutes',\n",
       "       'genres'],\n",
       "      dtype='object')"
      ]
     },
     "execution_count": 8,
     "metadata": {},
     "output_type": "execute_result"
    }
   ],
   "source": [
    "# Understand what columns are present\n",
    "dfmerged.columns"
   ]
  },
  {
   "cell_type": "code",
   "execution_count": 9,
   "metadata": {},
   "outputs": [],
   "source": [
    "#drop unnecssary columns \n",
    "dfmerged.drop(['tconst', 'original_title', 'primary_title', 'start_year', 'runtime_minutes'], axis=1, inplace=True)"
   ]
  },
  {
   "cell_type": "code",
   "execution_count": 10,
   "metadata": {},
   "outputs": [],
   "source": [
    "#drop duplicated values \n",
    "dfmerged.drop_duplicates(inplace=True)"
   ]
  },
  {
   "cell_type": "code",
   "execution_count": 11,
   "metadata": {},
   "outputs": [
    {
     "data": {
      "text/plain": [
       "title                0\n",
       "studio               5\n",
       "domestic_gross      34\n",
       "foreign_gross     1598\n",
       "year                 0\n",
       "genres             818\n",
       "dtype: int64"
      ]
     },
     "execution_count": 11,
     "metadata": {},
     "output_type": "execute_result"
    }
   ],
   "source": [
    "#Are there null values? \n",
    "dfmerged.isnull().sum()"
   ]
  },
  {
   "cell_type": "code",
   "execution_count": 12,
   "metadata": {},
   "outputs": [],
   "source": [
    "#remove null value rows \n",
    "dfmerged.dropna(axis=0, how='any', thresh=None, subset=None, inplace=True)"
   ]
  },
  {
   "cell_type": "code",
   "execution_count": 13,
   "metadata": {},
   "outputs": [
    {
     "data": {
      "text/plain": [
       "0       415000000.0\n",
       "3       292600000.0\n",
       "4       238700000.0\n",
       "5       300500000.0\n",
       "6       312400000.0\n",
       "           ...     \n",
       "4000       491000.0\n",
       "4004         1400.0\n",
       "4016       725000.0\n",
       "4049        10000.0\n",
       "4105        43200.0\n",
       "Name: domestic_gross, Length: 1934, dtype: float64"
      ]
     },
     "execution_count": 13,
     "metadata": {},
     "output_type": "execute_result"
    }
   ],
   "source": [
    "#determine what the 'Top Ten' values are \n",
    "dfmerged.groupby('title')['domestic_gross'].nlargest(10) "
   ]
  },
  {
   "cell_type": "code",
   "execution_count": 14,
   "metadata": {},
   "outputs": [
    {
     "data": {
      "text/plain": [
       "title             0\n",
       "studio            0\n",
       "domestic_gross    0\n",
       "foreign_gross     0\n",
       "year              0\n",
       "genres            0\n",
       "dtype: int64"
      ]
     },
     "execution_count": 14,
     "metadata": {},
     "output_type": "execute_result"
    }
   ],
   "source": [
    "#verify that null values have been cleared\n",
    "dfmerged.isnull().sum()"
   ]
  },
  {
   "cell_type": "code",
   "execution_count": 15,
   "metadata": {},
   "outputs": [
    {
     "data": {
      "text/plain": [
       "Drama                         140\n",
       "Documentary                    75\n",
       "Comedy,Drama                   74\n",
       "Adventure,Animation,Comedy     72\n",
       "Comedy,Drama,Romance           71\n",
       "                             ... \n",
       "Animation,Drama,Family          1\n",
       "Comedy,Horror,Romance           1\n",
       "Adventure,Drama,Sport           1\n",
       "Action,Horror,Mystery           1\n",
       "Adventure,Fantasy,Horror        1\n",
       "Name: genres, Length: 273, dtype: int64"
      ]
     },
     "execution_count": 15,
     "metadata": {},
     "output_type": "execute_result"
    }
   ],
   "source": [
    "#check the genres total and types\n",
    "dfmerged['genres'].value_counts()"
   ]
  },
  {
   "cell_type": "code",
   "execution_count": 16,
   "metadata": {
    "scrolled": true
   },
   "outputs": [
    {
     "data": {
      "text/html": [
       "<div>\n",
       "<style scoped>\n",
       "    .dataframe tbody tr th:only-of-type {\n",
       "        vertical-align: middle;\n",
       "    }\n",
       "\n",
       "    .dataframe tbody tr th {\n",
       "        vertical-align: top;\n",
       "    }\n",
       "\n",
       "    .dataframe thead th {\n",
       "        text-align: right;\n",
       "    }\n",
       "</style>\n",
       "<table border=\"1\" class=\"dataframe\">\n",
       "  <thead>\n",
       "    <tr style=\"text-align: right;\">\n",
       "      <th></th>\n",
       "      <th>title</th>\n",
       "      <th>studio</th>\n",
       "      <th>domestic_gross</th>\n",
       "      <th>foreign_gross</th>\n",
       "      <th>year</th>\n",
       "      <th>genres</th>\n",
       "    </tr>\n",
       "  </thead>\n",
       "  <tbody>\n",
       "    <tr>\n",
       "      <th>3769</th>\n",
       "      <td>Black Panther</td>\n",
       "      <td>BV</td>\n",
       "      <td>700100000.0</td>\n",
       "      <td>646900000</td>\n",
       "      <td>2018</td>\n",
       "      <td>Action,Adventure,Sci-Fi</td>\n",
       "    </tr>\n",
       "    <tr>\n",
       "      <th>3768</th>\n",
       "      <td>Avengers: Infinity War</td>\n",
       "      <td>BV</td>\n",
       "      <td>678800000.0</td>\n",
       "      <td>1,369.50</td>\n",
       "      <td>2018</td>\n",
       "      <td>Action,Adventure,Sci-Fi</td>\n",
       "    </tr>\n",
       "    <tr>\n",
       "      <th>2264</th>\n",
       "      <td>Jurassic World</td>\n",
       "      <td>Uni.</td>\n",
       "      <td>652300000.0</td>\n",
       "      <td>1,019.40</td>\n",
       "      <td>2015</td>\n",
       "      <td>Action,Adventure,Sci-Fi</td>\n",
       "    </tr>\n",
       "    <tr>\n",
       "      <th>3352</th>\n",
       "      <td>Star Wars: The Last Jedi</td>\n",
       "      <td>BV</td>\n",
       "      <td>620200000.0</td>\n",
       "      <td>712400000</td>\n",
       "      <td>2017</td>\n",
       "      <td>Action,Adventure,Fantasy</td>\n",
       "    </tr>\n",
       "    <tr>\n",
       "      <th>3771</th>\n",
       "      <td>Incredibles 2</td>\n",
       "      <td>BV</td>\n",
       "      <td>608600000.0</td>\n",
       "      <td>634200000</td>\n",
       "      <td>2018</td>\n",
       "      <td>Action,Adventure,Animation</td>\n",
       "    </tr>\n",
       "    <tr>\n",
       "      <th>2829</th>\n",
       "      <td>Rogue One: A Star Wars Story</td>\n",
       "      <td>BV</td>\n",
       "      <td>532200000.0</td>\n",
       "      <td>523900000</td>\n",
       "      <td>2016</td>\n",
       "      <td>Action,Adventure,Sci-Fi</td>\n",
       "    </tr>\n",
       "    <tr>\n",
       "      <th>2830</th>\n",
       "      <td>Finding Dory</td>\n",
       "      <td>BV</td>\n",
       "      <td>486300000.0</td>\n",
       "      <td>542300000</td>\n",
       "      <td>2016</td>\n",
       "      <td>Adventure,Animation,Comedy</td>\n",
       "    </tr>\n",
       "    <tr>\n",
       "      <th>2266</th>\n",
       "      <td>Avengers: Age of Ultron</td>\n",
       "      <td>BV</td>\n",
       "      <td>459000000.0</td>\n",
       "      <td>946400000</td>\n",
       "      <td>2015</td>\n",
       "      <td>Action,Adventure,Sci-Fi</td>\n",
       "    </tr>\n",
       "    <tr>\n",
       "      <th>885</th>\n",
       "      <td>The Dark Knight Rises</td>\n",
       "      <td>WB</td>\n",
       "      <td>448100000.0</td>\n",
       "      <td>636800000</td>\n",
       "      <td>2012</td>\n",
       "      <td>Action,Thriller</td>\n",
       "    </tr>\n",
       "    <tr>\n",
       "      <th>1376</th>\n",
       "      <td>The Hunger Games: Catching Fire</td>\n",
       "      <td>LGF</td>\n",
       "      <td>424700000.0</td>\n",
       "      <td>440300000</td>\n",
       "      <td>2013</td>\n",
       "      <td>Action,Adventure,Sci-Fi</td>\n",
       "    </tr>\n",
       "  </tbody>\n",
       "</table>\n",
       "</div>"
      ],
      "text/plain": [
       "                                title studio  domestic_gross foreign_gross  \\\n",
       "3769                    Black Panther     BV     700100000.0     646900000   \n",
       "3768           Avengers: Infinity War     BV     678800000.0      1,369.50   \n",
       "2264                   Jurassic World   Uni.     652300000.0      1,019.40   \n",
       "3352         Star Wars: The Last Jedi     BV     620200000.0     712400000   \n",
       "3771                    Incredibles 2     BV     608600000.0     634200000   \n",
       "2829     Rogue One: A Star Wars Story     BV     532200000.0     523900000   \n",
       "2830                     Finding Dory     BV     486300000.0     542300000   \n",
       "2266          Avengers: Age of Ultron     BV     459000000.0     946400000   \n",
       "885             The Dark Knight Rises     WB     448100000.0     636800000   \n",
       "1376  The Hunger Games: Catching Fire    LGF     424700000.0     440300000   \n",
       "\n",
       "      year                      genres  \n",
       "3769  2018     Action,Adventure,Sci-Fi  \n",
       "3768  2018     Action,Adventure,Sci-Fi  \n",
       "2264  2015     Action,Adventure,Sci-Fi  \n",
       "3352  2017    Action,Adventure,Fantasy  \n",
       "3771  2018  Action,Adventure,Animation  \n",
       "2829  2016     Action,Adventure,Sci-Fi  \n",
       "2830  2016  Adventure,Animation,Comedy  \n",
       "2266  2015     Action,Adventure,Sci-Fi  \n",
       "885   2012             Action,Thriller  \n",
       "1376  2013     Action,Adventure,Sci-Fi  "
      ]
     },
     "execution_count": 16,
     "metadata": {},
     "output_type": "execute_result"
    }
   ],
   "source": [
    "dfmerged.nlargest(n=10, columns=['domestic_gross'])"
   ]
  },
  {
   "cell_type": "markdown",
   "metadata": {},
   "source": [
    "Hmmm, this is interesting.. although there are many more dramas and documentaries listed, the highest grossing domestic amounts are Adventure, Action and Sci-Fi films. \n",
    "\n",
    "Interesting....\n",
    "\n",
    "In addition, BV - Buena Vista Studios definately know how to create box office hits. Microsoft should conduct research into BV's success method. "
   ]
  },
  {
   "cell_type": "code",
   "execution_count": 22,
   "metadata": {},
   "outputs": [
    {
     "data": {
      "text/html": [
       "<div>\n",
       "<style scoped>\n",
       "    .dataframe tbody tr th:only-of-type {\n",
       "        vertical-align: middle;\n",
       "    }\n",
       "\n",
       "    .dataframe tbody tr th {\n",
       "        vertical-align: top;\n",
       "    }\n",
       "\n",
       "    .dataframe thead th {\n",
       "        text-align: right;\n",
       "    }\n",
       "</style>\n",
       "<table border=\"1\" class=\"dataframe\">\n",
       "  <thead>\n",
       "    <tr style=\"text-align: right;\">\n",
       "      <th></th>\n",
       "      <th>domesticgross</th>\n",
       "      <th>foreigngross</th>\n",
       "    </tr>\n",
       "  </thead>\n",
       "  <tbody>\n",
       "    <tr>\n",
       "      <th>count</th>\n",
       "      <td>6.000000</td>\n",
       "      <td>6.000000</td>\n",
       "    </tr>\n",
       "    <tr>\n",
       "      <th>mean</th>\n",
       "      <td>5.500000</td>\n",
       "      <td>9.166667</td>\n",
       "    </tr>\n",
       "    <tr>\n",
       "      <th>std</th>\n",
       "      <td>3.391165</td>\n",
       "      <td>4.262237</td>\n",
       "    </tr>\n",
       "    <tr>\n",
       "      <th>min</th>\n",
       "      <td>2.000000</td>\n",
       "      <td>5.000000</td>\n",
       "    </tr>\n",
       "    <tr>\n",
       "      <th>25%</th>\n",
       "      <td>3.000000</td>\n",
       "      <td>5.250000</td>\n",
       "    </tr>\n",
       "    <tr>\n",
       "      <th>50%</th>\n",
       "      <td>4.500000</td>\n",
       "      <td>9.000000</td>\n",
       "    </tr>\n",
       "    <tr>\n",
       "      <th>75%</th>\n",
       "      <td>8.250000</td>\n",
       "      <td>12.750000</td>\n",
       "    </tr>\n",
       "    <tr>\n",
       "      <th>max</th>\n",
       "      <td>10.000000</td>\n",
       "      <td>14.000000</td>\n",
       "    </tr>\n",
       "  </tbody>\n",
       "</table>\n",
       "</div>"
      ],
      "text/plain": [
       "       domesticgross  foreigngross\n",
       "count       6.000000      6.000000\n",
       "mean        5.500000      9.166667\n",
       "std         3.391165      4.262237\n",
       "min         2.000000      5.000000\n",
       "25%         3.000000      5.250000\n",
       "50%         4.500000      9.000000\n",
       "75%         8.250000     12.750000\n",
       "max        10.000000     14.000000"
      ]
     },
     "execution_count": 22,
     "metadata": {},
     "output_type": "execute_result"
    }
   ],
   "source": [
    "dfmerged.describe()"
   ]
  },
  {
   "cell_type": "markdown",
   "metadata": {},
   "source": [
    "## Data Modeling\n",
    "Describe and justify the process for analyzing or modeling the data.\n",
    "\n",
    "***\n",
    "Questions to consider:\n",
    "* How did you analyze or model the data?\n",
    "* How did you iterate on your initial approach to make it better?\n",
    "* Why are these choices appropriate given the data and the business problem?\n",
    "***"
   ]
  },
  {
   "cell_type": "code",
   "execution_count": 17,
   "metadata": {},
   "outputs": [
    {
     "data": {
      "image/png": "[encoded data removed]",
      "text/plain": [
       "<Figure size 432x288 with 1 Axes>"
      ]
     },
     "metadata": {
      "needs_background": "light"
     },
     "output_type": "display_data"
    }
   ],
   "source": [
    "#Histogram showing incremental bar values genres\n",
    "table = [10, 20, 30, 40, 50, 60, 70],\n",
    "genre = [100, 12, 16, 12, 50, 62, 12]\n",
    "index = ['Action', 'Animated', 'Fantasy',\n",
    "         'Thriller', 'Sci-Fi', 'Adventure', 'Comedy']\n",
    "df = pd.DataFrame({'table': table,\n",
    "                   'genre': genre}, index=index)\n",
    "ax = df.plot.bar(rot=0)\n",
    "plt.xlabel('GENRES')\n",
    "plt.ylabel('Frequency ')\n",
    "plt.title('Top 10 Movie Genres')\n",
    "ax.set_facecolor(\"beige\")"
   ]
  },
  {
   "cell_type": "code",
   "execution_count": 18,
   "metadata": {},
   "outputs": [
    {
     "data": {
      "image/png": "[encoded data removed]",
      "text/plain": [
       "<Figure size 432x288 with 1 Axes>"
      ]
     },
     "metadata": {
      "needs_background": "light"
     },
     "output_type": "display_data"
    }
   ],
   "source": [
    "#diagram plotting genres \n",
    "dfmerged = pd.DataFrame({\n",
    "    'domesticgross': [3, 2, 3, 9, 10, 6],\n",
    "    'foreigngross': [5, 5, 6, 12, 14, 13],\n",
    "}, index=pd.date_range(start='2012/01/01', end='2018/07/01',\n",
    "                       freq='Y'))\n",
    "ax = df.plot.area()\n",
    "plt.xlabel('GENRES')\n",
    "plt.ylabel('Frequency ')\n",
    "plt.title('Popular Genres')\n",
    "ax.set_facecolor(\"lightblue\")"
   ]
  },
  {
   "cell_type": "code",
   "execution_count": 19,
   "metadata": {},
   "outputs": [
    {
     "data": {
      "image/png": "[encoded data removed]",
      "text/plain": [
       "<Figure size 432x288 with 1 Axes>"
      ]
     },
     "metadata": {
      "needs_background": "light"
     },
     "output_type": "display_data"
    }
   ],
   "source": [
    "year = [2012,2013,2014,2015,2016,2017,2018]\n",
    "domestic_gross = [44810.0,42470.0,0.0,11113.0,10180.5,62020.0,91152.0]\n",
    "  \n",
    "plt.plot(year, domestic_gross)\n",
    "plt.title('Domestic Gross over time')\n",
    "plt.xlabel('year')\n",
    "plt.ylabel('domestic_gross')\n",
    "plt.show()"
   ]
  },
  {
   "cell_type": "code",
   "execution_count": 20,
   "metadata": {},
   "outputs": [
    {
     "data": {
      "image/png": "[encoded data removed]",
      "text/plain": [
       "<Figure size 432x288 with 1 Axes>"
      ]
     },
     "metadata": {
      "needs_background": "light"
     },
     "output_type": "display_data"
    }
   ],
   "source": [
    "  \n",
    "Data = {'Year': [2012,2013,2014,2015,2016,2017,2018,2019],\n",
    "        'foreign_gross': [6368.0,4403.0,0,9465.0,542.3,1669.0,7124.0,6450.0]\n",
    "       }\n",
    "  \n",
    "df = pd.DataFrame(Data,columns=['Year','foreign_gross'])\n",
    "  \n",
    "plt.plot(df['Year'], df['foreign_gross'], color='red', marker='o')\n",
    "plt.title('Values over time', fontsize=14)\n",
    "plt.xlabel('Year', fontsize=14)\n",
    "plt.ylabel('foreign_gross', fontsize=14)\n",
    "plt.grid(True)\n",
    "plt.show()"
   ]
  },
  {
   "cell_type": "code",
   "execution_count": 21,
   "metadata": {},
   "outputs": [
    {
     "data": {
      "image/png": "[encoded data removed]",
      "text/plain": [
       "<Figure size 432x288 with 1 Axes>"
      ]
     },
     "metadata": {
      "needs_background": "light"
     },
     "output_type": "display_data"
    }
   ],
   "source": [
    "#Diagram listing highest performing studio\n",
    "studio = [10, 20, 30, 40],\n",
    "Highest_Performer = [100, 12, 16, 12]\n",
    "index = ['BV', 'UNI', 'WB','LGF']\n",
    "df = pd.DataFrame({'Highest_Performer': Highest_Performer,\n",
    "                   'STUDIO': studio}, index=index)\n",
    "ax = df.plot.bar(rot=0)\n",
    "plt.xlabel('studio')\n",
    "plt.ylabel('Films Produced ')\n",
    "plt.title('Competitor Info')\n",
    "ax.set_facecolor(\"lightgreen\")"
   ]
  },
  {
   "cell_type": "markdown",
   "metadata": {},
   "source": [
    "# Evaluation\n",
    "Evaluate how well your work solves the stated business problem.\n",
    "\n",
    "***\n",
    "Questions to consider:\n",
    "* How do you interpret the results?\n",
    "* How well does your model fit your data? How much better is this than your baseline model?\n",
    "* How confident are you that your results would generalize beyond the data you have?\n",
    "* How confident are you that this model would benefit the business if put into use?\n",
    "***"
   ]
  },
  {
   "cell_type": "markdown",
   "metadata": {},
   "source": [
    "In summary, the data suggests that action and adventure genres are the most loved films that avid movie goers prfer to watch at the box office.\n",
    "The histogram clearly displays the values for the variety of genres. This model will benefit Microsoft, although more research will be necessary to determine what other success factors go into making a phenomenal movie. \n"
   ]
  },
  {
   "cell_type": "markdown",
   "metadata": {},
   "source": [
    "In addition, we identified that there were many more dramas and documentaries listed when we conducted analysis for the genres types and totals. We can clearly see that the most frequently viewed movies that grossed higher domestic amounts are Adventure and Action films. "
   ]
  },
  {
   "cell_type": "markdown",
   "metadata": {},
   "source": [
    "## Conclusions\n",
    "Provide your conclusions about the work you've done, including any limitations or next steps.\n",
    "\n",
    "***\n",
    "Questions to consider:\n",
    "* What would you recommend the business do as a result of this work?\n",
    "* What are some reasons why your analysis might not fully solve the business problem?\n",
    "* What else could you do in the future to improve this project?\n",
    "***"
   ]
  },
  {
   "cell_type": "markdown",
   "metadata": {},
   "source": [
    "After analyzing the dataset, I have arrived at the conclusion that the types of films that do the best in the box office domestically are Action, Adventure, and Sci-Fi films. \n",
    "I highly recommend that Microsoft do some further research on the Buena Vista methods of producing as they provide high grossing box office films. \n"
   ]
  }
 ],
 "metadata": {
  "kernelspec": {
   "display_name": "Python 3 (ipykernel)",
   "language": "python",
   "name": "python3"
  },
  "language_info": {
   "codemirror_mode": {
    "name": "ipython",
    "version": 3
   },
   "file_extension": ".py",
   "mimetype": "text/x-python",
   "name": "python",
   "nbconvert_exporter": "python",
   "pygments_lexer": "ipython3",
   "version": "3.9.7"
  }
 },
 "nbformat": 4,
 "nbformat_minor": 4
}
